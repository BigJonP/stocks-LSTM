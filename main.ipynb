{
 "cells": [
  {
   "cell_type": "code",
   "execution_count": 35,
   "metadata": {},
   "outputs": [
    {
     "data": {
      "text/plain": [
       "<torch._C.Generator at 0x1fca5f888f0>"
      ]
     },
     "execution_count": 35,
     "metadata": {},
     "output_type": "execute_result"
    }
   ],
   "source": [
    "import numpy as np\n",
    "import pandas as pd\n",
    "from datetime import datetime\n",
    "import yfinance as yf\n",
    "import torch\n",
    "import torch.nn as nn\n",
    "\n",
    "torch.manual_seed(42)"
   ]
  },
  {
   "cell_type": "code",
   "execution_count": 2,
   "metadata": {},
   "outputs": [],
   "source": [
    "stock = \"META\"\n",
    "\n",
    "end = datetime.now()\n",
    "start = datetime(end.year - 1, end.month, end.day)"
   ]
  },
  {
   "cell_type": "code",
   "execution_count": 71,
   "metadata": {},
   "outputs": [
    {
     "name": "stdout",
     "output_type": "stream",
     "text": [
      "[*********************100%%**********************]  1 of 1 completed\n"
     ]
    },
    {
     "data": {
      "text/html": [
       "<div>\n",
       "<style scoped>\n",
       "    .dataframe tbody tr th:only-of-type {\n",
       "        vertical-align: middle;\n",
       "    }\n",
       "\n",
       "    .dataframe tbody tr th {\n",
       "        vertical-align: top;\n",
       "    }\n",
       "\n",
       "    .dataframe thead th {\n",
       "        text-align: right;\n",
       "    }\n",
       "</style>\n",
       "<table border=\"1\" class=\"dataframe\">\n",
       "  <thead>\n",
       "    <tr style=\"text-align: right;\">\n",
       "      <th></th>\n",
       "      <th>Open</th>\n",
       "      <th>High</th>\n",
       "      <th>Low</th>\n",
       "      <th>Close</th>\n",
       "      <th>Adj Close</th>\n",
       "      <th>Volume</th>\n",
       "    </tr>\n",
       "    <tr>\n",
       "      <th>Date</th>\n",
       "      <th></th>\n",
       "      <th></th>\n",
       "      <th></th>\n",
       "      <th></th>\n",
       "      <th></th>\n",
       "      <th></th>\n",
       "    </tr>\n",
       "  </thead>\n",
       "  <tbody>\n",
       "    <tr>\n",
       "      <th>2022-12-27</th>\n",
       "      <td>117.930000</td>\n",
       "      <td>118.599998</td>\n",
       "      <td>116.050003</td>\n",
       "      <td>116.879997</td>\n",
       "      <td>116.879997</td>\n",
       "      <td>21392300</td>\n",
       "    </tr>\n",
       "    <tr>\n",
       "      <th>2022-12-28</th>\n",
       "      <td>116.250000</td>\n",
       "      <td>118.150002</td>\n",
       "      <td>115.510002</td>\n",
       "      <td>115.620003</td>\n",
       "      <td>115.620003</td>\n",
       "      <td>19612500</td>\n",
       "    </tr>\n",
       "    <tr>\n",
       "      <th>2022-12-29</th>\n",
       "      <td>116.400002</td>\n",
       "      <td>121.029999</td>\n",
       "      <td>115.769997</td>\n",
       "      <td>120.260002</td>\n",
       "      <td>120.260002</td>\n",
       "      <td>22366200</td>\n",
       "    </tr>\n",
       "  </tbody>\n",
       "</table>\n",
       "</div>"
      ],
      "text/plain": [
       "                  Open        High         Low       Close   Adj Close  \\\n",
       "Date                                                                     \n",
       "2022-12-27  117.930000  118.599998  116.050003  116.879997  116.879997   \n",
       "2022-12-28  116.250000  118.150002  115.510002  115.620003  115.620003   \n",
       "2022-12-29  116.400002  121.029999  115.769997  120.260002  120.260002   \n",
       "\n",
       "              Volume  \n",
       "Date                  \n",
       "2022-12-27  21392300  \n",
       "2022-12-28  19612500  \n",
       "2022-12-29  22366200  "
      ]
     },
     "execution_count": 71,
     "metadata": {},
     "output_type": "execute_result"
    }
   ],
   "source": [
    "stock_data = yf.download(stock, start, end)\n",
    "stock_data.astype(\"double\")\n",
    "stock_data.head(3)"
   ]
  },
  {
   "cell_type": "code",
   "execution_count": 73,
   "metadata": {},
   "outputs": [
    {
     "data": {
      "text/html": [
       "<div>\n",
       "<style scoped>\n",
       "    .dataframe tbody tr th:only-of-type {\n",
       "        vertical-align: middle;\n",
       "    }\n",
       "\n",
       "    .dataframe tbody tr th {\n",
       "        vertical-align: top;\n",
       "    }\n",
       "\n",
       "    .dataframe thead th {\n",
       "        text-align: right;\n",
       "    }\n",
       "</style>\n",
       "<table border=\"1\" class=\"dataframe\">\n",
       "  <thead>\n",
       "    <tr style=\"text-align: right;\">\n",
       "      <th></th>\n",
       "      <th>Open</th>\n",
       "      <th>High</th>\n",
       "      <th>Low</th>\n",
       "      <th>Close</th>\n",
       "      <th>Adj Close</th>\n",
       "      <th>Volume</th>\n",
       "    </tr>\n",
       "  </thead>\n",
       "  <tbody>\n",
       "    <tr>\n",
       "      <th>count</th>\n",
       "      <td>251.000000</td>\n",
       "      <td>251.000000</td>\n",
       "      <td>251.000000</td>\n",
       "      <td>251.000000</td>\n",
       "      <td>251.000000</td>\n",
       "      <td>2.510000e+02</td>\n",
       "    </tr>\n",
       "    <tr>\n",
       "      <th>mean</th>\n",
       "      <td>257.425260</td>\n",
       "      <td>261.312271</td>\n",
       "      <td>254.341474</td>\n",
       "      <td>258.004223</td>\n",
       "      <td>258.004223</td>\n",
       "      <td>2.428857e+07</td>\n",
       "    </tr>\n",
       "    <tr>\n",
       "      <th>std</th>\n",
       "      <td>64.864148</td>\n",
       "      <td>65.286986</td>\n",
       "      <td>63.994050</td>\n",
       "      <td>64.619124</td>\n",
       "      <td>64.619124</td>\n",
       "      <td>1.312703e+07</td>\n",
       "    </tr>\n",
       "    <tr>\n",
       "      <th>min</th>\n",
       "      <td>116.250000</td>\n",
       "      <td>118.150002</td>\n",
       "      <td>115.510002</td>\n",
       "      <td>115.620003</td>\n",
       "      <td>115.620003</td>\n",
       "      <td>5.467500e+06</td>\n",
       "    </tr>\n",
       "    <tr>\n",
       "      <th>25%</th>\n",
       "      <td>204.184998</td>\n",
       "      <td>207.730003</td>\n",
       "      <td>202.680000</td>\n",
       "      <td>205.680000</td>\n",
       "      <td>205.680000</td>\n",
       "      <td>1.720465e+07</td>\n",
       "    </tr>\n",
       "    <tr>\n",
       "      <th>50%</th>\n",
       "      <td>284.500000</td>\n",
       "      <td>289.049988</td>\n",
       "      <td>279.399994</td>\n",
       "      <td>285.089996</td>\n",
       "      <td>285.089996</td>\n",
       "      <td>2.074290e+07</td>\n",
       "    </tr>\n",
       "    <tr>\n",
       "      <th>75%</th>\n",
       "      <td>310.440002</td>\n",
       "      <td>314.540009</td>\n",
       "      <td>304.869995</td>\n",
       "      <td>310.675003</td>\n",
       "      <td>310.675003</td>\n",
       "      <td>2.663555e+07</td>\n",
       "    </tr>\n",
       "    <tr>\n",
       "      <th>max</th>\n",
       "      <td>355.579987</td>\n",
       "      <td>357.200012</td>\n",
       "      <td>353.450012</td>\n",
       "      <td>354.829987</td>\n",
       "      <td>354.829987</td>\n",
       "      <td>1.504757e+08</td>\n",
       "    </tr>\n",
       "  </tbody>\n",
       "</table>\n",
       "</div>"
      ],
      "text/plain": [
       "             Open        High         Low       Close   Adj Close  \\\n",
       "count  251.000000  251.000000  251.000000  251.000000  251.000000   \n",
       "mean   257.425260  261.312271  254.341474  258.004223  258.004223   \n",
       "std     64.864148   65.286986   63.994050   64.619124   64.619124   \n",
       "min    116.250000  118.150002  115.510002  115.620003  115.620003   \n",
       "25%    204.184998  207.730003  202.680000  205.680000  205.680000   \n",
       "50%    284.500000  289.049988  279.399994  285.089996  285.089996   \n",
       "75%    310.440002  314.540009  304.869995  310.675003  310.675003   \n",
       "max    355.579987  357.200012  353.450012  354.829987  354.829987   \n",
       "\n",
       "             Volume  \n",
       "count  2.510000e+02  \n",
       "mean   2.428857e+07  \n",
       "std    1.312703e+07  \n",
       "min    5.467500e+06  \n",
       "25%    1.720465e+07  \n",
       "50%    2.074290e+07  \n",
       "75%    2.663555e+07  \n",
       "max    1.504757e+08  "
      ]
     },
     "execution_count": 73,
     "metadata": {},
     "output_type": "execute_result"
    }
   ],
   "source": [
    "stock_data.describe()"
   ]
  },
  {
   "cell_type": "code",
   "execution_count": 75,
   "metadata": {},
   "outputs": [
    {
     "name": "stdout",
     "output_type": "stream",
     "text": [
      "<class 'pandas.core.frame.DataFrame'>\n",
      "DatetimeIndex: 251 entries, 2022-12-27 to 2023-12-26\n",
      "Data columns (total 6 columns):\n",
      " #   Column     Non-Null Count  Dtype  \n",
      "---  ------     --------------  -----  \n",
      " 0   Open       251 non-null    float64\n",
      " 1   High       251 non-null    float64\n",
      " 2   Low        251 non-null    float64\n",
      " 3   Close      251 non-null    float64\n",
      " 4   Adj Close  251 non-null    float64\n",
      " 5   Volume     251 non-null    int64  \n",
      "dtypes: float64(5), int64(1)\n",
      "memory usage: 13.7 KB\n"
     ]
    }
   ],
   "source": [
    "stock_data.info()"
   ]
  },
  {
   "cell_type": "markdown",
   "metadata": {},
   "source": [
    "#### Creating train/test validation split:\n",
    "An LSTM time series model looks back on previous historical time range data to predict future data to come in the same timeseries. So in our case we will have our \"X\" input be a sequence of historical data (e.g. Open, High, Low, Close, Adj Close, Volume over the last 60 days) and our \"y\" input be the price the following day/s we are trying to predict (e.g. stock price on the 61st day)."
   ]
  },
  {
   "cell_type": "code",
   "execution_count": 76,
   "metadata": {},
   "outputs": [
    {
     "name": "stdout",
     "output_type": "stream",
     "text": [
      "train shape = (152, 60, 6)\n",
      "test shape = (39, 60, 6)\n"
     ]
    }
   ],
   "source": [
    "num_days = 60\n",
    "train_size = 0.8\n",
    "raw_stock_data = stock_data.values\n",
    "formatted_stock_data = []\n",
    "\n",
    "for i in range(len(raw_stock_data)-num_days):\n",
    "    formatted_stock_data.append(raw_stock_data[i: i+num_days])\n",
    "\n",
    "train = np.array(formatted_stock_data[:int(len(formatted_stock_data)*train_size)])\n",
    "test = np.array(formatted_stock_data[int(len(formatted_stock_data)*train_size):])\n",
    "\n",
    "print(f\"train shape = {train.shape}\")\n",
    "print(f\"test shape = {test.shape}\")"
   ]
  },
  {
   "cell_type": "code",
   "execution_count": 77,
   "metadata": {},
   "outputs": [
    {
     "name": "stdout",
     "output_type": "stream",
     "text": [
      "x_train shape = torch.Size([152, 59, 6])\n",
      "y_train shape = torch.Size([152, 1])\n",
      "x_test shape = torch.Size([39, 59, 6])\n",
      "y_test shape = torch.Size([39, 1])\n"
     ]
    }
   ],
   "source": [
    "x_train = torch.from_numpy(train[:,:-1,:])\n",
    "y_train = torch.from_numpy(train[:,-1,:3:4])\n",
    "\n",
    "x_test = torch.from_numpy(test[:,:-1,:])\n",
    "y_test = torch.from_numpy(test[:,-1,:3:4])\n",
    "\n",
    "print(f\"x_train shape = {x_train.shape}\")\n",
    "print(f\"y_train shape = {y_train.shape}\")\n",
    "print(f\"x_test shape = {x_test.shape}\")\n",
    "print(f\"y_test shape = {y_test.shape}\")"
   ]
  },
  {
   "cell_type": "code",
   "execution_count": 78,
   "metadata": {},
   "outputs": [],
   "source": [
    "input_size = 6\n",
    "hidden_size = 32\n",
    "num_layers = 2\n",
    "batch_first = True\n",
    "bias = True\n",
    "dropout = 0\n",
    "\n",
    "class LSTM(nn.Module):\n",
    "    def __init__(self, input_size, hidden_size, num_layers, batch_first, bias, dropout):\n",
    "        super(LSTM, self).__init__()\n",
    "        self.lstm = nn.LSTM(input_size, hidden_size, num_layers, batch_first, bias, dropout)\n",
    "        self.linear = nn.Linear(hidden_size, 1)\n",
    "    \n",
    "    def forward(self, x):\n",
    "        x, _ = self.lstm(x)\n",
    "        x = self.linear(x)\n",
    "        return x\n"
   ]
  },
  {
   "cell_type": "code",
   "execution_count": 91,
   "metadata": {},
   "outputs": [],
   "source": [
    "model = LSTM(input_size, hidden_size, num_layers, batch_first, bias, dropout)\n",
    "x_train = x_train.to(torch.float32)\n",
    "\n",
    "loss_foo = torch.nn.MSELoss()\n",
    "optimiser = torch.optim.Adam(model.parameters(), lr=0.01)"
   ]
  },
  {
   "cell_type": "code",
   "execution_count": null,
   "metadata": {},
   "outputs": [],
   "source": []
  }
 ],
 "metadata": {
  "kernelspec": {
   "display_name": "venv",
   "language": "python",
   "name": "python3"
  },
  "language_info": {
   "codemirror_mode": {
    "name": "ipython",
    "version": 3
   },
   "file_extension": ".py",
   "mimetype": "text/x-python",
   "name": "python",
   "nbconvert_exporter": "python",
   "pygments_lexer": "ipython3",
   "version": "3.11.6"
  }
 },
 "nbformat": 4,
 "nbformat_minor": 2
}
