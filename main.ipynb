{
 "cells": [
  {
   "cell_type": "code",
   "execution_count": 1,
   "metadata": {},
   "outputs": [
    {
     "data": {
      "text/plain": [
       "<torch._C.Generator at 0x1b34df36490>"
      ]
     },
     "execution_count": 1,
     "metadata": {},
     "output_type": "execute_result"
    }
   ],
   "source": [
    "import numpy as np\n",
    "import pandas as pd\n",
    "from datetime import datetime\n",
    "import yfinance as yf\n",
    "import torch\n",
    "import torch.nn as nn\n",
    "import matplotlib.pyplot as plt\n",
    "\n",
    "torch.manual_seed(42)"
   ]
  },
  {
   "cell_type": "code",
   "execution_count": 2,
   "metadata": {},
   "outputs": [],
   "source": [
    "stock = \"META\"\n",
    "\n",
    "end = datetime.now()\n",
    "start = datetime(end.year - 3, end.month, end.day)"
   ]
  },
  {
   "cell_type": "code",
   "execution_count": 3,
   "metadata": {},
   "outputs": [
    {
     "name": "stdout",
     "output_type": "stream",
     "text": [
      "[*********************100%%**********************]  1 of 1 completed\n"
     ]
    },
    {
     "data": {
      "text/html": [
       "<div>\n",
       "<style scoped>\n",
       "    .dataframe tbody tr th:only-of-type {\n",
       "        vertical-align: middle;\n",
       "    }\n",
       "\n",
       "    .dataframe tbody tr th {\n",
       "        vertical-align: top;\n",
       "    }\n",
       "\n",
       "    .dataframe thead th {\n",
       "        text-align: right;\n",
       "    }\n",
       "</style>\n",
       "<table border=\"1\" class=\"dataframe\">\n",
       "  <thead>\n",
       "    <tr style=\"text-align: right;\">\n",
       "      <th></th>\n",
       "      <th>Open</th>\n",
       "      <th>High</th>\n",
       "      <th>Low</th>\n",
       "      <th>Close</th>\n",
       "      <th>Adj Close</th>\n",
       "      <th>Volume</th>\n",
       "    </tr>\n",
       "    <tr>\n",
       "      <th>Date</th>\n",
       "      <th></th>\n",
       "      <th></th>\n",
       "      <th></th>\n",
       "      <th></th>\n",
       "      <th></th>\n",
       "      <th></th>\n",
       "    </tr>\n",
       "  </thead>\n",
       "  <tbody>\n",
       "    <tr>\n",
       "      <th>2020-12-28</th>\n",
       "      <td>268.739990</td>\n",
       "      <td>277.299988</td>\n",
       "      <td>265.660004</td>\n",
       "      <td>277.000000</td>\n",
       "      <td>277.000000</td>\n",
       "      <td>23299700</td>\n",
       "    </tr>\n",
       "    <tr>\n",
       "      <th>2020-12-29</th>\n",
       "      <td>276.950012</td>\n",
       "      <td>280.510010</td>\n",
       "      <td>276.279999</td>\n",
       "      <td>276.779999</td>\n",
       "      <td>276.779999</td>\n",
       "      <td>16383000</td>\n",
       "    </tr>\n",
       "    <tr>\n",
       "      <th>2020-12-30</th>\n",
       "      <td>277.950012</td>\n",
       "      <td>278.079987</td>\n",
       "      <td>271.709991</td>\n",
       "      <td>271.869995</td>\n",
       "      <td>271.869995</td>\n",
       "      <td>11803800</td>\n",
       "    </tr>\n",
       "  </tbody>\n",
       "</table>\n",
       "</div>"
      ],
      "text/plain": [
       "                  Open        High         Low       Close   Adj Close  \\\n",
       "Date                                                                     \n",
       "2020-12-28  268.739990  277.299988  265.660004  277.000000  277.000000   \n",
       "2020-12-29  276.950012  280.510010  276.279999  276.779999  276.779999   \n",
       "2020-12-30  277.950012  278.079987  271.709991  271.869995  271.869995   \n",
       "\n",
       "              Volume  \n",
       "Date                  \n",
       "2020-12-28  23299700  \n",
       "2020-12-29  16383000  \n",
       "2020-12-30  11803800  "
      ]
     },
     "execution_count": 3,
     "metadata": {},
     "output_type": "execute_result"
    }
   ],
   "source": [
    "stock_data = yf.download(stock, start, end)\n",
    "stock_data.astype(\"double\")\n",
    "stock_data.head(3)"
   ]
  },
  {
   "cell_type": "code",
   "execution_count": 4,
   "metadata": {},
   "outputs": [
    {
     "data": {
      "text/html": [
       "<div>\n",
       "<style scoped>\n",
       "    .dataframe tbody tr th:only-of-type {\n",
       "        vertical-align: middle;\n",
       "    }\n",
       "\n",
       "    .dataframe tbody tr th {\n",
       "        vertical-align: top;\n",
       "    }\n",
       "\n",
       "    .dataframe thead th {\n",
       "        text-align: right;\n",
       "    }\n",
       "</style>\n",
       "<table border=\"1\" class=\"dataframe\">\n",
       "  <thead>\n",
       "    <tr style=\"text-align: right;\">\n",
       "      <th></th>\n",
       "      <th>Open</th>\n",
       "      <th>High</th>\n",
       "      <th>Low</th>\n",
       "      <th>Close</th>\n",
       "      <th>Adj Close</th>\n",
       "      <th>Volume</th>\n",
       "    </tr>\n",
       "  </thead>\n",
       "  <tbody>\n",
       "    <tr>\n",
       "      <th>count</th>\n",
       "      <td>756.000000</td>\n",
       "      <td>756.000000</td>\n",
       "      <td>756.000000</td>\n",
       "      <td>756.000000</td>\n",
       "      <td>756.000000</td>\n",
       "      <td>7.560000e+02</td>\n",
       "    </tr>\n",
       "    <tr>\n",
       "      <th>mean</th>\n",
       "      <td>254.120053</td>\n",
       "      <td>257.924629</td>\n",
       "      <td>250.734233</td>\n",
       "      <td>254.318029</td>\n",
       "      <td>254.318029</td>\n",
       "      <td>2.616223e+07</td>\n",
       "    </tr>\n",
       "    <tr>\n",
       "      <th>std</th>\n",
       "      <td>78.163035</td>\n",
       "      <td>78.508849</td>\n",
       "      <td>77.608584</td>\n",
       "      <td>78.139927</td>\n",
       "      <td>78.139927</td>\n",
       "      <td>1.783572e+07</td>\n",
       "    </tr>\n",
       "    <tr>\n",
       "      <th>min</th>\n",
       "      <td>90.080002</td>\n",
       "      <td>90.459999</td>\n",
       "      <td>88.089996</td>\n",
       "      <td>88.910004</td>\n",
       "      <td>88.910004</td>\n",
       "      <td>5.467500e+06</td>\n",
       "    </tr>\n",
       "    <tr>\n",
       "      <th>25%</th>\n",
       "      <td>186.295006</td>\n",
       "      <td>190.614998</td>\n",
       "      <td>182.732498</td>\n",
       "      <td>184.952499</td>\n",
       "      <td>184.952499</td>\n",
       "      <td>1.655310e+07</td>\n",
       "    </tr>\n",
       "    <tr>\n",
       "      <th>50%</th>\n",
       "      <td>270.659988</td>\n",
       "      <td>274.994995</td>\n",
       "      <td>268.164993</td>\n",
       "      <td>271.630005</td>\n",
       "      <td>271.630005</td>\n",
       "      <td>2.190510e+07</td>\n",
       "    </tr>\n",
       "    <tr>\n",
       "      <th>75%</th>\n",
       "      <td>323.350006</td>\n",
       "      <td>327.865005</td>\n",
       "      <td>319.362488</td>\n",
       "      <td>324.162506</td>\n",
       "      <td>324.162506</td>\n",
       "      <td>2.997925e+07</td>\n",
       "    </tr>\n",
       "    <tr>\n",
       "      <th>max</th>\n",
       "      <td>381.679993</td>\n",
       "      <td>384.329987</td>\n",
       "      <td>378.809998</td>\n",
       "      <td>382.179993</td>\n",
       "      <td>382.179993</td>\n",
       "      <td>2.323166e+08</td>\n",
       "    </tr>\n",
       "  </tbody>\n",
       "</table>\n",
       "</div>"
      ],
      "text/plain": [
       "             Open        High         Low       Close   Adj Close  \\\n",
       "count  756.000000  756.000000  756.000000  756.000000  756.000000   \n",
       "mean   254.120053  257.924629  250.734233  254.318029  254.318029   \n",
       "std     78.163035   78.508849   77.608584   78.139927   78.139927   \n",
       "min     90.080002   90.459999   88.089996   88.910004   88.910004   \n",
       "25%    186.295006  190.614998  182.732498  184.952499  184.952499   \n",
       "50%    270.659988  274.994995  268.164993  271.630005  271.630005   \n",
       "75%    323.350006  327.865005  319.362488  324.162506  324.162506   \n",
       "max    381.679993  384.329987  378.809998  382.179993  382.179993   \n",
       "\n",
       "             Volume  \n",
       "count  7.560000e+02  \n",
       "mean   2.616223e+07  \n",
       "std    1.783572e+07  \n",
       "min    5.467500e+06  \n",
       "25%    1.655310e+07  \n",
       "50%    2.190510e+07  \n",
       "75%    2.997925e+07  \n",
       "max    2.323166e+08  "
      ]
     },
     "execution_count": 4,
     "metadata": {},
     "output_type": "execute_result"
    }
   ],
   "source": [
    "stock_data.describe()"
   ]
  },
  {
   "cell_type": "code",
   "execution_count": 5,
   "metadata": {},
   "outputs": [
    {
     "name": "stdout",
     "output_type": "stream",
     "text": [
      "<class 'pandas.core.frame.DataFrame'>\n",
      "DatetimeIndex: 756 entries, 2020-12-28 to 2023-12-28\n",
      "Data columns (total 6 columns):\n",
      " #   Column     Non-Null Count  Dtype  \n",
      "---  ------     --------------  -----  \n",
      " 0   Open       756 non-null    float64\n",
      " 1   High       756 non-null    float64\n",
      " 2   Low        756 non-null    float64\n",
      " 3   Close      756 non-null    float64\n",
      " 4   Adj Close  756 non-null    float64\n",
      " 5   Volume     756 non-null    int64  \n",
      "dtypes: float64(5), int64(1)\n",
      "memory usage: 41.3 KB\n"
     ]
    }
   ],
   "source": [
    "stock_data.info()"
   ]
  },
  {
   "cell_type": "markdown",
   "metadata": {},
   "source": [
    "#### Creating train/test validation split:\n",
    "An LSTM time series model looks back on previous historical time range data to predict future data to come in the same timeseries. So in our case we will have our \"X\" input be a sequence of historical data (e.g. Open, High, Low, Close, Adj Close, Volume over the last 60 days) and our \"y\" input be the price the following day/s we are trying to predict (e.g. stock price on the 61st day)."
   ]
  },
  {
   "cell_type": "code",
   "execution_count": 6,
   "metadata": {},
   "outputs": [
    {
     "name": "stdout",
     "output_type": "stream",
     "text": [
      "train shape = (556, 60, 6)\n",
      "test shape = (140, 60, 6)\n"
     ]
    }
   ],
   "source": [
    "num_days = 60\n",
    "train_size = 0.8\n",
    "raw_stock_data = stock_data.values\n",
    "formatted_stock_data = []\n",
    "\n",
    "for i in range(len(raw_stock_data)-num_days):\n",
    "    formatted_stock_data.append(raw_stock_data[i: i+num_days])\n",
    "\n",
    "train = np.array(formatted_stock_data[:int(len(formatted_stock_data)*train_size)])\n",
    "test = np.array(formatted_stock_data[int(len(formatted_stock_data)*train_size):])\n",
    "\n",
    "print(f\"train shape = {train.shape}\")\n",
    "print(f\"test shape = {test.shape}\")"
   ]
  },
  {
   "cell_type": "code",
   "execution_count": 7,
   "metadata": {},
   "outputs": [
    {
     "name": "stdout",
     "output_type": "stream",
     "text": [
      "x_train shape = torch.Size([556, 59, 6])\n",
      "y_train shape = torch.Size([556, 1])\n",
      "x_test shape = torch.Size([140, 59, 6])\n",
      "y_test shape = torch.Size([140, 1])\n"
     ]
    }
   ],
   "source": [
    "x_train = torch.from_numpy(train[:,:-1,:]).to(torch.float32)\n",
    "y_train = torch.from_numpy(train[:,-1,:3:4]).to(torch.float32)\n",
    "\n",
    "x_test = torch.from_numpy(test[:,:-1,:]).to(torch.float32)\n",
    "y_test = torch.from_numpy(test[:,-1,:3:4]).to(torch.float32)\n",
    "\n",
    "print(f\"x_train shape = {x_train.shape}\")\n",
    "print(f\"y_train shape = {y_train.shape}\")\n",
    "print(f\"x_test shape = {x_test.shape}\")\n",
    "print(f\"y_test shape = {y_test.shape}\")"
   ]
  },
  {
   "cell_type": "code",
   "execution_count": 8,
   "metadata": {},
   "outputs": [],
   "source": [
    "input_size = 6\n",
    "hidden_size = 32\n",
    "num_layers = 2\n",
    "batch_first = True\n",
    "bias = True\n",
    "dropout = 0\n",
    "\n",
    "class LSTM(nn.Module):\n",
    "    def __init__(self, input_size, hidden_size, num_layers, batch_first, bias, dropout):\n",
    "        super(LSTM, self).__init__()\n",
    "        self.lstm = nn.LSTM(input_size, hidden_size, num_layers, batch_first, bias, dropout)\n",
    "        self.out = nn.Linear(hidden_size, 1)\n",
    "    \n",
    "    def forward(self, x):\n",
    "        x, _ = self.lstm(x)\n",
    "        x = self.out(x[:, -1, :])\n",
    "        return x\n"
   ]
  },
  {
   "cell_type": "code",
   "execution_count": 23,
   "metadata": {},
   "outputs": [],
   "source": [
    "model = LSTM(input_size, hidden_size, num_layers, batch_first, bias, dropout)\n",
    "x_train = x_train.to(torch.float32)\n",
    "\n",
    "loss_foo = torch.nn.MSELoss()\n",
    "optimizer = torch.optim.Adam(model.parameters(), lr=0.05)"
   ]
  },
  {
   "cell_type": "code",
   "execution_count": 27,
   "metadata": {},
   "outputs": [
    {
     "name": "stdout",
     "output_type": "stream",
     "text": [
      "Epoch = 0 and RMSE = 9798.8896484375\n",
      "Epoch = 10 and RMSE = 9313.19140625\n",
      "Epoch = 20 and RMSE = 8907.80859375\n",
      "Epoch = 30 and RMSE = 8571.4287109375\n",
      "Epoch = 40 and RMSE = 8293.9482421875\n",
      "Epoch = 50 and RMSE = 8066.40283203125\n",
      "Epoch = 60 and RMSE = 7880.91748046875\n",
      "Epoch = 70 and RMSE = 7730.61767578125\n",
      "Epoch = 80 and RMSE = 7609.56201171875\n",
      "Epoch = 90 and RMSE = 7512.6416015625\n",
      "Epoch = 100 and RMSE = 7435.5126953125\n",
      "Epoch = 110 and RMSE = 7374.5029296875\n",
      "Epoch = 120 and RMSE = 7326.53076171875\n",
      "Epoch = 130 and RMSE = 7289.03955078125\n",
      "Epoch = 140 and RMSE = 7259.91455078125\n",
      "Epoch = 150 and RMSE = 7237.4228515625\n",
      "Epoch = 160 and RMSE = 7220.1591796875\n",
      "Epoch = 170 and RMSE = 7206.98828125\n",
      "Epoch = 180 and RMSE = 7196.9990234375\n",
      "Epoch = 190 and RMSE = 7189.46875\n"
     ]
    }
   ],
   "source": [
    "epochs = 101\n",
    "losses = []\n",
    "\n",
    "for i in range(epochs):\n",
    "    # Forward pass\n",
    "    y_train_pred = model.forward(x_train.to(torch.float32))\n",
    "\n",
    "    # Measure loss\n",
    "    loss = loss_foo(y_train_pred, y_train)\n",
    "    losses.append(loss.item())\n",
    "\n",
    "    # Print every 10 epochs\n",
    "    if i % 10 == 0:\n",
    "        print(f\"Epoch = {i} and RMSE = {loss}\")\n",
    "\n",
    "    # Backpropagation\n",
    "    optimizer.zero_grad()\n",
    "    loss.backward()\n",
    "    optimizer.step()"
   ]
  },
  {
   "cell_type": "code",
   "execution_count": 28,
   "metadata": {},
   "outputs": [
    {
     "data": {
      "image/png": "[encoded data removed]",
      "text/plain": [
       "<Figure size 640x480 with 1 Axes>"
      ]
     },
     "metadata": {},
     "output_type": "display_data"
    }
   ],
   "source": [
    "plt.plot(range(epochs), losses, label=\"Training loss\")\n",
    "plt.legend()\n",
    "plt.show()"
   ]
  },
  {
   "cell_type": "code",
   "execution_count": 31,
   "metadata": {},
   "outputs": [],
   "source": [
    "y_test_pred = model(x_test)"
   ]
  },
  {
   "cell_type": "code",
   "execution_count": 33,
   "metadata": {},
   "outputs": [
    {
     "data": {
      "image/png": "[encoded data removed]",
      "text/plain": [
       "<Figure size 1500x600 with 1 Axes>"
      ]
     },
     "metadata": {},
     "output_type": "display_data"
    }
   ],
   "source": [
    "figure, axes = plt.subplots(figsize=(15, 6))\n",
    "axes.xaxis_date()\n",
    "\n",
    "axes.plot(stock_data[len(stock_data)-len(y_test):].index, y_test.detach().numpy(), color = 'red', label = 'Real META Stock Price')\n",
    "axes.plot(stock_data[len(stock_data)-len(y_test):].index, y_test_pred.detach().numpy(), color = 'blue', label = 'Predicted Meta Stock Price')\n",
    "#axes.xticks(np.arange(0,394,50))\n",
    "plt.title('META Stock Price Prediction')\n",
    "plt.xlabel('Time')\n",
    "plt.ylabel('META Stock Price')\n",
    "plt.legend()\n",
    "plt.show()"
   ]
  }
 ],
 "metadata": {
  "kernelspec": {
   "display_name": "venv",
   "language": "python",
   "name": "python3"
  },
  "language_info": {
   "codemirror_mode": {
    "name": "ipython",
    "version": 3
   },
   "file_extension": ".py",
   "mimetype": "text/x-python",
   "name": "python",
   "nbconvert_exporter": "python",
   "pygments_lexer": "ipython3",
   "version": "3.11.6"
  }
 },
 "nbformat": 4,
 "nbformat_minor": 2
}
